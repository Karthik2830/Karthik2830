{
  "nbformat": 4,
  "nbformat_minor": 0,
  "metadata": {
    "colab": {
      "provenance": [],
      "include_colab_link": true
    },
    "kernelspec": {
      "name": "python3",
      "display_name": "Python 3"
    },
    "language_info": {
      "name": "python"
    }
  },
  "cells": [
    {
      "cell_type": "markdown",
      "metadata": {
        "id": "view-in-github",
        "colab_type": "text"
      },
      "source": [
        "<a href=\"https://colab.research.google.com/github/Karthik2830/Karthik2830/blob/main/Implementation_of_seed_operations_using_tensor_flow.ipynb\" target=\"_parent\"><img src=\"https://colab.research.google.com/assets/colab-badge.svg\" alt=\"Open In Colab\"/></a>"
      ]
    },
    {
      "cell_type": "code",
      "execution_count": 1,
      "metadata": {
        "colab": {
          "base_uri": "https://localhost:8080/",
          "height": 0
        },
        "id": "JTF9uxlT6WAa",
        "outputId": "e52d05fa-b86d-47f4-d24b-acfb3a95fe1b"
      },
      "outputs": [
        {
          "output_type": "stream",
          "name": "stdout",
          "text": [
            "Are the two tensors identical? tf.Tensor(False, shape=(), dtype=bool)\n"
          ]
        }
      ],
      "source": [
        "import tensorflow as tf\n",
        "tf.random.set_seed(42)\n",
        "#print(tf.random.set_seed(1234))\n",
        "tensor1 = tf.random.normal(shape=(2, 3))\n",
        "#print(tensor1)\n",
        "tensor2 = tf.random.normal(shape=(2, 3))\n",
        "#print(tensor2)\n",
        "print(\"Are the two tensors identical?\", tf.reduce_all(tensor1 == tensor2))"
      ]
    },
    {
      "cell_type": "code",
      "source": [
        "input_tensor = tf.constant([[1, 2], [3, 4], [5, 6], [7, 8]])\n",
        "shuffled_tensor = tf.random.shuffle(input_tensor)\n",
        "print(\"Shuffled tensor without seed:\\n\", shuffled_tensor.numpy())"
      ],
      "metadata": {
        "colab": {
          "base_uri": "https://localhost:8080/",
          "height": 0
        },
        "id": "CbrFEHWi7XHc",
        "outputId": "f974a162-b128-4193-ba63-ebd3462cf577"
      },
      "execution_count": 2,
      "outputs": [
        {
          "output_type": "stream",
          "name": "stdout",
          "text": [
            "Shuffled tensor without seed:\n",
            " [[1 2]\n",
            " [7 8]\n",
            " [3 4]\n",
            " [5 6]]\n"
          ]
        }
      ]
    },
    {
      "cell_type": "code",
      "source": [
        "#with seed\n",
        "input_tensor = tf.constant([[1, 2], [3, 4], [5, 6], [7, 8]])\n",
        "tf.random.set_seed(42)\n",
        "shuffled_tensor = tf.random.shuffle(input_tensor)\n",
        "print(\"Shuffled tensor with seed:\\n\", shuffled_tensor.numpy())"
      ],
      "metadata": {
        "colab": {
          "base_uri": "https://localhost:8080/",
          "height": 0
        },
        "id": "t9LagHE97dli",
        "outputId": "17986aa9-fd8a-4c6d-e129-56f4168e40c0"
      },
      "execution_count": 3,
      "outputs": [
        {
          "output_type": "stream",
          "name": "stdout",
          "text": [
            "Shuffled tensor with seed:\n",
            " [[7 8]\n",
            " [1 2]\n",
            " [3 4]\n",
            " [5 6]]\n"
          ]
        }
      ]
    },
    {
      "cell_type": "code",
      "source": [
        "input_tensor = tf.constant([[1, 2], [3, 4], [5, 6], [7, 8]])\n",
        "tf.random.set_seed(42)\n",
        "shuffled_tensor_op_seed = tf.random.shuffle(input_tensor)\n",
        "tf.random.set_seed(42)\n",
        "shuffled_tensor_global_seed = tf.random.shuffle(input_tensor)\n",
        "tf.random.set_seed(42)\n",
        "shuffled_tensor_global_seed2 = tf.random.shuffle(input_tensor)\n",
        "print(\"Shuffled tensor with operation seed:\\n\", shuffled_tensor_op_seed.numpy())\n",
        "print(\"Shuffled tensor with global seed:\\n\", shuffled_tensor_global_seed.numpy())\n",
        "print(\"Shuffled tensor with global seed (second execution):\\n\", shuffled_tensor_global_seed2.numpy())"
      ],
      "metadata": {
        "colab": {
          "base_uri": "https://localhost:8080/",
          "height": 0
        },
        "id": "uc3F2G2B7gex",
        "outputId": "86bd3620-3892-4643-caa2-d9e5f74334ef"
      },
      "execution_count": 4,
      "outputs": [
        {
          "output_type": "stream",
          "name": "stdout",
          "text": [
            "Shuffled tensor with operation seed:\n",
            " [[7 8]\n",
            " [1 2]\n",
            " [3 4]\n",
            " [5 6]]\n",
            "Shuffled tensor with global seed:\n",
            " [[7 8]\n",
            " [1 2]\n",
            " [3 4]\n",
            " [5 6]]\n",
            "Shuffled tensor with global seed (second execution):\n",
            " [[7 8]\n",
            " [1 2]\n",
            " [3 4]\n",
            " [5 6]]\n"
          ]
        }
      ]
    },
    {
      "cell_type": "code",
      "source": [
        "tf.random.set_seed(42)\n",
        "tensor1 = tf.random.normal(shape=(2, 3))\n",
        "tf.random.set_seed(11)\n",
        "tensor2 = tf.random.normal(shape=(2, 3))\n",
        "print(tensor1)\n",
        "print(tensor2)\n",
        "print(\"Are the two tensors identical? \", tf.reduce_all(tensor1 == tensor2))\n",
        "seed = [1, 2]\n",
        "new_seeds = tf.random.split(seed, num=3)\n",
        "print(new_seeds)"
      ],
      "metadata": {
        "colab": {
          "base_uri": "https://localhost:8080/",
          "height": 0
        },
        "id": "wc4Jir5V7kdQ",
        "outputId": "4f9d9eff-f201-4826-eeec-08dff295c548"
      },
      "execution_count": 5,
      "outputs": [
        {
          "output_type": "stream",
          "name": "stdout",
          "text": [
            "tf.Tensor(\n",
            "[[ 0.3274685 -0.8426258  0.3194337]\n",
            " [-1.4075519 -2.3880599 -1.0392479]], shape=(2, 3), dtype=float32)\n",
            "tf.Tensor(\n",
            "[[-1.5229472   0.66954476 -0.6424697 ]\n",
            " [ 1.4300429   0.5867822   0.4392982 ]], shape=(2, 3), dtype=float32)\n",
            "Are the two tensors identical?  tf.Tensor(False, shape=(), dtype=bool)\n",
            "tf.Tensor(\n",
            "[[1105988140 1738052849]\n",
            " [-335576002  370444179]\n",
            " [  10670227 -246211131]], shape=(3, 2), dtype=int32)\n"
          ]
        }
      ]
    },
    {
      "cell_type": "code",
      "source": [],
      "metadata": {
        "id": "wMlL_i5E0gwU"
      },
      "execution_count": 5,
      "outputs": []
    }
  ]
}